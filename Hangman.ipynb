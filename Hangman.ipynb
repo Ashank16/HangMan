{
  "nbformat": 4,
  "nbformat_minor": 0,
  "metadata": {
    "colab": {
      "name": "Hangman.ipynb",
      "provenance": [],
      "authorship_tag": "ABX9TyOwSjuEOpuvaYtvwOeqSrO7",
      "include_colab_link": true
    },
    "kernelspec": {
      "name": "python3",
      "display_name": "Python 3"
    }
  },
  "cells": [
    {
      "cell_type": "markdown",
      "metadata": {
        "id": "view-in-github",
        "colab_type": "text"
      },
      "source": [
        "<a href=\"https://colab.research.google.com/github/Ashank16/HangMan/blob/master/Hangman.ipynb\" target=\"_parent\"><img src=\"https://colab.research.google.com/assets/colab-badge.svg\" alt=\"Open In Colab\"/></a>"
      ]
    },
    {
      "cell_type": "code",
      "metadata": {
        "id": "mf0Y3ggx6VOw",
        "colab_type": "code",
        "colab": {}
      },
      "source": [
        "def game(correct):\n",
        "  i = 0\n",
        "  wordlength = len(correct)\n",
        "  guess = \"*\" * wordlength\n",
        "  guessed = []\n",
        "  for x in range(wordlength):\n",
        "    print(\"Enter the guess value : \")\n",
        "    gl = input()\n",
        "    if gl in guessed:\n",
        "      print(\"Already guessed\")\n",
        "      guessed.append(gl)\n",
        "    if gl in correct:\n",
        "      print(\"Correct guess!!!\")\n",
        "      guessed.append(gl)\n",
        "      for i in range(wordlength):\n",
        "        if gl == correct[i]:\n",
        "          guess = guess[:i] + correct[i] + guess[i+1:]\n",
        "      print(guess)\n",
        "    else:\n",
        "       print(\"Oops guess again\")\n",
        "       i = i+1\n",
        "    if guess == correct:\n",
        "       print(\"Yay!! word guessed correctly\")\n",
        "       exit()        "
      ],
      "execution_count": 0,
      "outputs": []
    },
    {
      "cell_type": "code",
      "metadata": {
        "id": "MvTjgzt86b4S",
        "colab_type": "code",
        "outputId": "5c7edd0d-a714-4e69-f0e5-5409718d9bb5",
        "colab": {
          "base_uri": "https://localhost:8080/",
          "height": 487
        }
      },
      "source": [
        "print(\"WELCOME\")\n",
        "words = [\"apple\", \"banana\", \"guava\", \"cherry\", \"pineapple\", \"coconut\"]\n",
        "import random\n",
        "correct = random.choice(words)\n",
        "print(\"Enter one to begin \")\n",
        "s = int(input())\n",
        "if s == 1:\n",
        "  print(correct)\n",
        "  print(\"*\" * len(correct))\n",
        "  game(correct)\n",
        "else:\n",
        "  print(\"Thank you!!\")\n",
        "  exit()\n",
        "    "
      ],
      "execution_count": 0,
      "outputs": [
        {
          "output_type": "stream",
          "text": [
            "WELCOME\n",
            "Enter one to begin \n",
            "1\n",
            "guava\n",
            "*****\n",
            "Enter the guess value : \n",
            "g\n",
            "Correct guess!!!\n",
            "g****\n",
            "Enter the guess value : \n",
            "v\n",
            "Correct guess!!!\n",
            "g**v*\n",
            "Enter the guess value : \n",
            "u\n",
            "Correct guess!!!\n",
            "gu*v*\n",
            "Enter the guess value : \n",
            "a\n",
            "Correct guess!!!\n",
            "guava\n",
            "Yay!! word guessed correctly\n",
            "Enter the guess value : \n",
            "g\n",
            "Already guessed\n",
            "Correct guess!!!\n",
            "guava\n",
            "Yay!! word guessed correctly\n"
          ],
          "name": "stdout"
        }
      ]
    },
    {
      "cell_type": "code",
      "metadata": {
        "id": "0Mq5-CUk-C66",
        "colab_type": "code",
        "colab": {}
      },
      "source": [
        ""
      ],
      "execution_count": 0,
      "outputs": []
    }
  ]
}